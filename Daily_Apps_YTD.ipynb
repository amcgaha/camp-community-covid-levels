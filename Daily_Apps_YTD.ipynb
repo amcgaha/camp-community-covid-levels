{
 "cells": [
  {
   "cell_type": "markdown",
   "metadata": {},
   "source": [
    "## Daily Cumulative Applications Year-to-Date"
   ]
  },
  {
   "cell_type": "markdown",
   "metadata": {},
   "source": [
    "!!!! The backfill needs adjusting. We need to get rid of the early applications of Phen and Hawkins. How to do this? Replace specifically each time?"
   ]
  },
  {
   "cell_type": "code",
   "execution_count": 1,
   "metadata": {},
   "outputs": [],
   "source": [
    "import pandas as pd\n",
    "import datetime as dt\n",
    "import os"
   ]
  },
  {
   "cell_type": "markdown",
   "metadata": {},
   "source": [
    "Load data"
   ]
  },
  {
   "cell_type": "code",
   "execution_count": 2,
   "metadata": {
    "scrolled": true
   },
   "outputs": [],
   "source": [
    "file_name = '10_20_2020_7_27_39.csv'\n",
    "file_path = f'C:\\\\Users\\\\avery\\\\Dropbox\\\\Data Analysis\\\\Databases\\\\Camper_Tracking_2021\\\\{file_name}'\n",
    "full_df = pd.read_csv(file_path, index_col='PersonID')"
   ]
  },
  {
   "cell_type": "markdown",
   "metadata": {},
   "source": [
    "Process origin data."
   ]
  },
  {
   "cell_type": "code",
   "execution_count": 3,
   "metadata": {},
   "outputs": [],
   "source": [
    "#  Change data type to datetime.\n",
    "full_df['Application Date'] = pd.to_datetime(full_df['Application Date'])\n",
    "\n",
    "# Fill empty enrolled sessions with applied sessions\n",
    "full_df['Enrolled Sessions'] = full_df['Enrolled Sessions'].fillna(full_df['Applied Sessions'])\n",
    "\n",
    "# Select subset to get only data we care about.\n",
    "data_list = ['Full Name', 'Application Date', 'Enrolled Sessions', 'Gender']\n",
    "df_sorted =  full_df[data_list]\n",
    "\n",
    "# Sort by application date\n",
    "df_sorted = df_sorted.sort_values('Application Date', ascending=True)"
   ]
  },
  {
   "cell_type": "markdown",
   "metadata": {},
   "source": [
    "Change any early application dates to 9/15/2020"
   ]
  },
  {
   "cell_type": "code",
   "execution_count": 4,
   "metadata": {
    "scrolled": true
   },
   "outputs": [],
   "source": [
    "df_sorted.loc[df_sorted['Application Date'] < '2020-09-15', 'Application Date'] = '2020-09-15 00:00:00'"
   ]
  },
  {
   "cell_type": "code",
   "execution_count": 5,
   "metadata": {
    "scrolled": true
   },
   "outputs": [
    {
     "name": "stdout",
     "output_type": "stream",
     "text": [
      "               Full Name     Application Date               Enrolled Sessions  \\\n",
      "PersonID                                                                        \n",
      "12457499    Hawkins Mead  2020-09-15 00:00:00                       Session 2   \n",
      "10363284    Stephen Mead  2020-09-15 00:00:00                       Session 3   \n",
      "12473840   Cecelia Abney  2020-09-15 00:00:00                       Session 3   \n",
      "3565475   Charles Miller  2020-09-15 00:00:00  Leadership in Training (LIT) 1   \n",
      "11097303      Sarah Weil  2020-09-15 00:00:00                       Session 2   \n",
      "\n",
      "          Gender  \n",
      "PersonID          \n",
      "12457499    Male  \n",
      "10363284    Male  \n",
      "12473840  Female  \n",
      "3565475     Male  \n",
      "11097303  Female  \n"
     ]
    }
   ],
   "source": [
    "print(df_sorted.head())"
   ]
  },
  {
   "cell_type": "markdown",
   "metadata": {},
   "source": [
    "Reconvert application date to datetime - otherwise will fail to join later."
   ]
  },
  {
   "cell_type": "code",
   "execution_count": 6,
   "metadata": {},
   "outputs": [
    {
     "name": "stdout",
     "output_type": "stream",
     "text": [
      "               Full Name Application Date               Enrolled Sessions  \\\n",
      "PersonID                                                                    \n",
      "12457499    Hawkins Mead       2020-09-15                       Session 2   \n",
      "10363284    Stephen Mead       2020-09-15                       Session 3   \n",
      "12473840   Cecelia Abney       2020-09-15                       Session 3   \n",
      "3565475   Charles Miller       2020-09-15  Leadership in Training (LIT) 1   \n",
      "11097303      Sarah Weil       2020-09-15                       Session 2   \n",
      "\n",
      "          Gender  \n",
      "PersonID          \n",
      "12457499    Male  \n",
      "10363284    Male  \n",
      "12473840  Female  \n",
      "3565475     Male  \n",
      "11097303  Female  \n"
     ]
    }
   ],
   "source": [
    "df_sorted['Application Date'] = pd.to_datetime(df_sorted['Application Date'])\n",
    "print(df_sorted.head())"
   ]
  },
  {
   "cell_type": "markdown",
   "metadata": {},
   "source": [
    "## Remap Sessions\n",
    "Explicitly remap expedition sessions"
   ]
  },
  {
   "cell_type": "code",
   "execution_count": 7,
   "metadata": {},
   "outputs": [],
   "source": [
    "exp_remap_dict = {'Western Expedition':'EXP', \n",
    "                   'Blue Ridge 1':'EXP', \n",
    "                   'Blue Ridge 2':'EXP', \n",
    "                   'Blue Ridge 3':'EXP', \n",
    "                   'Outer Banks 1':'EXP', \n",
    "                   'Outer Banks 2':'EXP', \n",
    "                  'Leadership in Training (LIT) 1':'EXP',\n",
    "                  'Leadership in Training (LIT) 2':'EXP', \n",
    "                  'Mountain Biking 2- Base Camp Expedition':'EXP',\n",
    "                  'Mountain Biking 1- Base Camp Expedition and Session 2':'Session 2',\n",
    "                  'Session 2 and Rock Climbing 1- Base Camp Expedition': 'Session 2', \n",
    "                  'Session 3 and Circumnavigate GRP 2- Base Camp Expedition':'Session 3', \n",
    "                  'Session 2 and Session 4':'Session 4'}\n",
    "\n",
    "df_remapped = df_sorted.replace(exp_remap_dict)"
   ]
  },
  {
   "cell_type": "markdown",
   "metadata": {},
   "source": [
    "## Pivot to count apps per date"
   ]
  },
  {
   "cell_type": "code",
   "execution_count": 8,
   "metadata": {},
   "outputs": [],
   "source": [
    "pivot_count_df = pd.pivot_table(df_remapped, \n",
    "                                values='Full Name', \n",
    "                                index=['Application Date'], \n",
    "                                columns=['Enrolled Sessions'], \n",
    "                                aggfunc='count', \n",
    "                                fill_value=0)"
   ]
  },
  {
   "cell_type": "markdown",
   "metadata": {},
   "source": [
    "Convert dates back to string for joining."
   ]
  },
  {
   "cell_type": "markdown",
   "metadata": {},
   "source": [
    "Calculate cumulative sum of the pivot table rows down each column"
   ]
  },
  {
   "cell_type": "code",
   "execution_count": 9,
   "metadata": {},
   "outputs": [
    {
     "data": {
      "text/plain": [
       "Enrolled Sessions\n",
       "EXP          int64\n",
       "Session 1    int64\n",
       "Session 2    int64\n",
       "Session 3    int64\n",
       "Session 4    int64\n",
       "Session 5    int64\n",
       "Session 6    int64\n",
       "dtype: object"
      ]
     },
     "execution_count": 9,
     "metadata": {},
     "output_type": "execute_result"
    }
   ],
   "source": [
    "pivot_cum_df = pivot_count_df.cumsum(axis=0)\n",
    "pivot_cum_df.dtypes"
   ]
  },
  {
   "cell_type": "markdown",
   "metadata": {},
   "source": [
    "## Standardize Dates"
   ]
  },
  {
   "cell_type": "markdown",
   "metadata": {},
   "source": [
    "Generate the standardized date dataframe."
   ]
  },
  {
   "cell_type": "code",
   "execution_count": 10,
   "metadata": {},
   "outputs": [
    {
     "name": "stdout",
     "output_type": "stream",
     "text": [
      "  Standard Date\n",
      "0    2020-08-01\n",
      "1    2020-08-02\n",
      "2    2020-08-03\n",
      "3    2020-08-04\n",
      "4    2020-08-05\n"
     ]
    }
   ],
   "source": [
    "# Place key inside a string to use as date start and end.\n",
    "start_string = \"2020-08-01\"\n",
    "end_string = \"2021-07-31\"\n",
    "    \n",
    "# Convert strings to datetime type\n",
    "start_date= dt.datetime.strptime(start_string, '%Y-%m-%d')\n",
    "end_date = dt.datetime.strptime(end_string, '%Y-%m-%d')\n",
    "    \n",
    "# Generate temporary dataframe with time series.\n",
    "date_series = pd.date_range(start=start_date,end=end_date)\n",
    "date_df = pd.DataFrame(date_series)\n",
    "date_df.columns = ['Standard Date']\n",
    "    \n",
    "# Store each resulting dataframe in the storage dictionary.\n",
    "print(date_df.head())"
   ]
  },
  {
   "cell_type": "markdown",
   "metadata": {},
   "source": [
    "(If this were another year, we'd test for leap year and drop Feb 29. Code is in the historical models.)"
   ]
  },
  {
   "cell_type": "markdown",
   "metadata": {},
   "source": [
    "## Join with standardized dates\n",
    "and fill na values"
   ]
  },
  {
   "cell_type": "code",
   "execution_count": 11,
   "metadata": {},
   "outputs": [
    {
     "name": "stdout",
     "output_type": "stream",
     "text": [
      "   EXP  Session 1  Session 2  Session 3  Session 4  Session 5  Session 6  \\\n",
      "0  NaN        NaN        NaN        NaN        NaN        NaN        NaN   \n",
      "1  NaN        NaN        NaN        NaN        NaN        NaN        NaN   \n",
      "2  NaN        NaN        NaN        NaN        NaN        NaN        NaN   \n",
      "3  NaN        NaN        NaN        NaN        NaN        NaN        NaN   \n",
      "4  NaN        NaN        NaN        NaN        NaN        NaN        NaN   \n",
      "\n",
      "  Standard Date  \n",
      "0    2020-08-01  \n",
      "1    2020-08-02  \n",
      "2    2020-08-03  \n",
      "3    2020-08-04  \n",
      "4    2020-08-05  \n"
     ]
    }
   ],
   "source": [
    "joined_df = pd.merge_ordered(pivot_cum_df, date_df, left_on='Application Date', right_on='Standard Date', how='right')\n",
    "joined_df.fillna(method='bfill', inplace=True, limit=1)\n",
    "print(joined_df.head())"
   ]
  },
  {
   "cell_type": "markdown",
   "metadata": {},
   "source": [
    "## Export & Open"
   ]
  },
  {
   "cell_type": "code",
   "execution_count": 12,
   "metadata": {
    "scrolled": true
   },
   "outputs": [],
   "source": [
    "joined_df.set_index('Standard Date', inplace=True)\n",
    "\n",
    "export_file_path = 'C:\\\\Users\\\\avery\\\\Dropbox\\\\Data Analysis\\\\Outputs\\\\2021_Tracking\\\\Daily_Applications_YTD.csv'\n",
    "joined_df.to_csv(export_file_path)"
   ]
  },
  {
   "cell_type": "code",
   "execution_count": 13,
   "metadata": {},
   "outputs": [],
   "source": [
    "os.startfile(export_file_path)"
   ]
  }
 ],
 "metadata": {
  "kernelspec": {
   "display_name": "Python 3",
   "language": "python",
   "name": "python3"
  },
  "language_info": {
   "codemirror_mode": {
    "name": "ipython",
    "version": 3
   },
   "file_extension": ".py",
   "mimetype": "text/x-python",
   "name": "python",
   "nbconvert_exporter": "python",
   "pygments_lexer": "ipython3",
   "version": "3.8.3"
  }
 },
 "nbformat": 4,
 "nbformat_minor": 4
}